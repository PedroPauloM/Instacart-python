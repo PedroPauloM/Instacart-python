{
 "cells": [
  {
   "cell_type": "code",
   "execution_count": 7,
   "id": "330dd09c",
   "metadata": {},
   "outputs": [],
   "source": [
    "# Import Libraries and Dataset"
   ]
  },
  {
   "cell_type": "code",
   "execution_count": 8,
   "id": "7d8c7d5e",
   "metadata": {},
   "outputs": [],
   "source": [
    "import pandas as pd\n",
    "import numpy as np\n",
    "import os\n",
    "import matplotlib.pyplot as plt\n",
    "import seaborn as sns\n",
    "import scipy"
   ]
  },
  {
   "cell_type": "code",
   "execution_count": 9,
   "id": "92ff534d",
   "metadata": {},
   "outputs": [],
   "source": [
    "df_ords_final = pd.read_pickle(r'/Users/pedropaulo/Desktop/Tasks CF/Instacart Basket Analysis/Data/Prepared Data/orders_products_customers.pkl')"
   ]
  },
  {
   "cell_type": "code",
   "execution_count": 10,
   "id": "74985f1b",
   "metadata": {},
   "outputs": [],
   "source": [
    "# Checking"
   ]
  },
  {
   "cell_type": "code",
   "execution_count": 11,
   "id": "edeebf39",
   "metadata": {},
   "outputs": [
    {
     "name": "stdout",
     "output_type": "stream",
     "text": [
      "<class 'pandas.core.frame.DataFrame'>\n",
      "Int64Index: 1000000 entries, 0 to 999999\n",
      "Data columns (total 32 columns):\n",
      " #   Column                 Non-Null Count    Dtype   \n",
      "---  ------                 --------------    -----   \n",
      " 0   user_id                1000000 non-null  int64   \n",
      " 1   first_name             1000000 non-null  object  \n",
      " 2   last_name              1000000 non-null  object  \n",
      " 3   sex                    1000000 non-null  object  \n",
      " 4   state                  1000000 non-null  object  \n",
      " 5   age                    1000000 non-null  int64   \n",
      " 6   date_joined            1000000 non-null  object  \n",
      " 7   n_dependants           1000000 non-null  int64   \n",
      " 8   fam_status             1000000 non-null  object  \n",
      " 9   income                 1000000 non-null  int64   \n",
      " 10  order_id               1000000 non-null  int64   \n",
      " 11  order_number           1000000 non-null  int64   \n",
      " 12  orders_day_of_week     1000000 non-null  int64   \n",
      " 13  order_hour_of_day      1000000 non-null  int64   \n",
      " 14  days_since_last_order  940681 non-null   float64 \n",
      " 15  product_id             1000000 non-null  int64   \n",
      " 16  add_to_cart_order      1000000 non-null  int64   \n",
      " 17  reordered              1000000 non-null  int64   \n",
      " 18  product_name           1000000 non-null  object  \n",
      " 19  aisle_id               1000000 non-null  float64 \n",
      " 20  department_id          1000000 non-null  float64 \n",
      " 21  prices                 1000000 non-null  float64 \n",
      " 22  busiest_day            1000000 non-null  object  \n",
      " 23  busiest_days           1000000 non-null  object  \n",
      " 24  busiest_period_of_day  1000000 non-null  object  \n",
      " 25  max_order              1000000 non-null  int64   \n",
      " 26  loyalty_flag           1000000 non-null  object  \n",
      " 27  mean_price             1000000 non-null  float64 \n",
      " 28  spending_flag          1000000 non-null  object  \n",
      " 29  median_days            998177 non-null   float64 \n",
      " 30  frequency_flag         1000000 non-null  object  \n",
      " 31  _merge                 1000000 non-null  category\n",
      "dtypes: category(1), float64(6), int64(12), object(13)\n",
      "memory usage: 245.1+ MB\n"
     ]
    }
   ],
   "source": [
    "df_ords_final.info()"
   ]
  },
  {
   "cell_type": "code",
   "execution_count": 12,
   "id": "b4e14b1e",
   "metadata": {},
   "outputs": [],
   "source": [
    "# drop first_name and last_name due to PII data concerns\n",
    "df_ords_final = df_ords_final.drop(columns=['first_name', 'last_name'])"
   ]
  },
  {
   "cell_type": "code",
   "execution_count": 13,
   "id": "17864746",
   "metadata": {},
   "outputs": [
    {
     "data": {
      "text/html": [
       "<div>\n",
       "<style scoped>\n",
       "    .dataframe tbody tr th:only-of-type {\n",
       "        vertical-align: middle;\n",
       "    }\n",
       "\n",
       "    .dataframe tbody tr th {\n",
       "        vertical-align: top;\n",
       "    }\n",
       "\n",
       "    .dataframe thead th {\n",
       "        text-align: right;\n",
       "    }\n",
       "</style>\n",
       "<table border=\"1\" class=\"dataframe\">\n",
       "  <thead>\n",
       "    <tr style=\"text-align: right;\">\n",
       "      <th></th>\n",
       "      <th>user_id</th>\n",
       "      <th>sex</th>\n",
       "      <th>state</th>\n",
       "      <th>age</th>\n",
       "      <th>date_joined</th>\n",
       "      <th>n_dependants</th>\n",
       "      <th>fam_status</th>\n",
       "      <th>income</th>\n",
       "      <th>order_id</th>\n",
       "      <th>order_number</th>\n",
       "      <th>...</th>\n",
       "      <th>busiest_day</th>\n",
       "      <th>busiest_days</th>\n",
       "      <th>busiest_period_of_day</th>\n",
       "      <th>max_order</th>\n",
       "      <th>loyalty_flag</th>\n",
       "      <th>mean_price</th>\n",
       "      <th>spending_flag</th>\n",
       "      <th>median_days</th>\n",
       "      <th>frequency_flag</th>\n",
       "      <th>_merge</th>\n",
       "    </tr>\n",
       "  </thead>\n",
       "  <tbody>\n",
       "    <tr>\n",
       "      <th>0</th>\n",
       "      <td>26711</td>\n",
       "      <td>Female</td>\n",
       "      <td>Missouri</td>\n",
       "      <td>48</td>\n",
       "      <td>1/1/2017</td>\n",
       "      <td>3</td>\n",
       "      <td>married</td>\n",
       "      <td>165665</td>\n",
       "      <td>2543867</td>\n",
       "      <td>5</td>\n",
       "      <td>...</td>\n",
       "      <td>Regularly busy</td>\n",
       "      <td>Busiest days</td>\n",
       "      <td>Most orders</td>\n",
       "      <td>8</td>\n",
       "      <td>New customer</td>\n",
       "      <td>11.4</td>\n",
       "      <td>High spender</td>\n",
       "      <td>14.0</td>\n",
       "      <td>Regular customer</td>\n",
       "      <td>both</td>\n",
       "    </tr>\n",
       "    <tr>\n",
       "      <th>1</th>\n",
       "      <td>26711</td>\n",
       "      <td>Female</td>\n",
       "      <td>Missouri</td>\n",
       "      <td>48</td>\n",
       "      <td>1/1/2017</td>\n",
       "      <td>3</td>\n",
       "      <td>married</td>\n",
       "      <td>165665</td>\n",
       "      <td>1285508</td>\n",
       "      <td>7</td>\n",
       "      <td>...</td>\n",
       "      <td>Regularly busy</td>\n",
       "      <td>Regularly days</td>\n",
       "      <td>Most orders</td>\n",
       "      <td>8</td>\n",
       "      <td>New customer</td>\n",
       "      <td>11.4</td>\n",
       "      <td>High spender</td>\n",
       "      <td>14.0</td>\n",
       "      <td>Regular customer</td>\n",
       "      <td>both</td>\n",
       "    </tr>\n",
       "    <tr>\n",
       "      <th>2</th>\n",
       "      <td>26711</td>\n",
       "      <td>Female</td>\n",
       "      <td>Missouri</td>\n",
       "      <td>48</td>\n",
       "      <td>1/1/2017</td>\n",
       "      <td>3</td>\n",
       "      <td>married</td>\n",
       "      <td>165665</td>\n",
       "      <td>2578584</td>\n",
       "      <td>8</td>\n",
       "      <td>...</td>\n",
       "      <td>Regularly busy</td>\n",
       "      <td>Busiest days</td>\n",
       "      <td>Most orders</td>\n",
       "      <td>8</td>\n",
       "      <td>New customer</td>\n",
       "      <td>11.4</td>\n",
       "      <td>High spender</td>\n",
       "      <td>14.0</td>\n",
       "      <td>Regular customer</td>\n",
       "      <td>both</td>\n",
       "    </tr>\n",
       "    <tr>\n",
       "      <th>3</th>\n",
       "      <td>26711</td>\n",
       "      <td>Female</td>\n",
       "      <td>Missouri</td>\n",
       "      <td>48</td>\n",
       "      <td>1/1/2017</td>\n",
       "      <td>3</td>\n",
       "      <td>married</td>\n",
       "      <td>165665</td>\n",
       "      <td>423547</td>\n",
       "      <td>2</td>\n",
       "      <td>...</td>\n",
       "      <td>Regularly busy</td>\n",
       "      <td>Regularly days</td>\n",
       "      <td>Most orders</td>\n",
       "      <td>8</td>\n",
       "      <td>New customer</td>\n",
       "      <td>11.4</td>\n",
       "      <td>High spender</td>\n",
       "      <td>14.0</td>\n",
       "      <td>Regular customer</td>\n",
       "      <td>both</td>\n",
       "    </tr>\n",
       "    <tr>\n",
       "      <th>4</th>\n",
       "      <td>26711</td>\n",
       "      <td>Female</td>\n",
       "      <td>Missouri</td>\n",
       "      <td>48</td>\n",
       "      <td>1/1/2017</td>\n",
       "      <td>3</td>\n",
       "      <td>married</td>\n",
       "      <td>165665</td>\n",
       "      <td>2524893</td>\n",
       "      <td>3</td>\n",
       "      <td>...</td>\n",
       "      <td>Regularly busy</td>\n",
       "      <td>Slowest days</td>\n",
       "      <td>Most orders</td>\n",
       "      <td>8</td>\n",
       "      <td>New customer</td>\n",
       "      <td>11.4</td>\n",
       "      <td>High spender</td>\n",
       "      <td>14.0</td>\n",
       "      <td>Regular customer</td>\n",
       "      <td>both</td>\n",
       "    </tr>\n",
       "  </tbody>\n",
       "</table>\n",
       "<p>5 rows × 30 columns</p>\n",
       "</div>"
      ],
      "text/plain": [
       "   user_id     sex     state  age date_joined  n_dependants fam_status  \\\n",
       "0    26711  Female  Missouri   48    1/1/2017             3    married   \n",
       "1    26711  Female  Missouri   48    1/1/2017             3    married   \n",
       "2    26711  Female  Missouri   48    1/1/2017             3    married   \n",
       "3    26711  Female  Missouri   48    1/1/2017             3    married   \n",
       "4    26711  Female  Missouri   48    1/1/2017             3    married   \n",
       "\n",
       "   income  order_id  order_number  ...     busiest_day    busiest_days  \\\n",
       "0  165665   2543867             5  ...  Regularly busy    Busiest days   \n",
       "1  165665   1285508             7  ...  Regularly busy  Regularly days   \n",
       "2  165665   2578584             8  ...  Regularly busy    Busiest days   \n",
       "3  165665    423547             2  ...  Regularly busy  Regularly days   \n",
       "4  165665   2524893             3  ...  Regularly busy    Slowest days   \n",
       "\n",
       "   busiest_period_of_day  max_order  loyalty_flag  mean_price spending_flag  \\\n",
       "0            Most orders          8  New customer        11.4  High spender   \n",
       "1            Most orders          8  New customer        11.4  High spender   \n",
       "2            Most orders          8  New customer        11.4  High spender   \n",
       "3            Most orders          8  New customer        11.4  High spender   \n",
       "4            Most orders          8  New customer        11.4  High spender   \n",
       "\n",
       "   median_days    frequency_flag  _merge  \n",
       "0         14.0  Regular customer    both  \n",
       "1         14.0  Regular customer    both  \n",
       "2         14.0  Regular customer    both  \n",
       "3         14.0  Regular customer    both  \n",
       "4         14.0  Regular customer    both  \n",
       "\n",
       "[5 rows x 30 columns]"
      ]
     },
     "execution_count": 13,
     "metadata": {},
     "output_type": "execute_result"
    }
   ],
   "source": [
    "df_ords_final.head()"
   ]
  },
  {
   "cell_type": "code",
   "execution_count": 14,
   "id": "db390ab6",
   "metadata": {},
   "outputs": [],
   "source": [
    "# defining regions based on state geographical location"
   ]
  },
  {
   "cell_type": "code",
   "execution_count": 15,
   "id": "de192b36",
   "metadata": {},
   "outputs": [],
   "source": [
    "region=[]\n",
    "for value in df_ords_final['state']:\n",
    "    if value in ['Maine','New Hampshire','Vermont','Massachusetts','Rhode Island','Connecticut','New York','Pennsylvania','New Jersey']:\n",
    "        region.append('Northeast')\n",
    "    elif value in ['Wisconsin','Michigan','Illinois','Indiana','Ohio','North Dakota','South Dakota','Nebraska','Kansas','Minnesota','Iowa','Missouri']:\n",
    "        region.append('Midwest')\n",
    "    elif value in ['Delaware','Maryland','District of Columbia','Virginia','West Virginia','North Carolina','South Carolina','Georgia','Florida','Kentucky','Tennessee','Mississippi','Alabama','Oklahoma','Texas','Arkansas','Louisiana']:\n",
    "        region.append('South')\n",
    "    else:\n",
    "        region.append('West')"
   ]
  },
  {
   "cell_type": "code",
   "execution_count": 16,
   "id": "40b1a119",
   "metadata": {},
   "outputs": [],
   "source": [
    "# create new column for region"
   ]
  },
  {
   "cell_type": "code",
   "execution_count": 17,
   "id": "410102ca",
   "metadata": {},
   "outputs": [],
   "source": [
    "df_ords_final['region'] = region"
   ]
  },
  {
   "cell_type": "code",
   "execution_count": 138,
   "id": "9700ef74",
   "metadata": {},
   "outputs": [
    {
     "data": {
      "text/plain": [
       "South        336951\n",
       "West         253881\n",
       "Midwest      232353\n",
       "Northeast    176815\n",
       "Name: region, dtype: int64"
      ]
     },
     "execution_count": 138,
     "metadata": {},
     "output_type": "execute_result"
    }
   ],
   "source": [
    "df_ords_final['region'].value_counts(dropna = False)"
   ]
  },
  {
   "cell_type": "code",
   "execution_count": 18,
   "id": "700b5b7d",
   "metadata": {},
   "outputs": [],
   "source": [
    "# Checking"
   ]
  },
  {
   "cell_type": "code",
   "execution_count": 19,
   "id": "3b10058b",
   "metadata": {},
   "outputs": [
    {
     "data": {
      "text/html": [
       "<div>\n",
       "<style scoped>\n",
       "    .dataframe tbody tr th:only-of-type {\n",
       "        vertical-align: middle;\n",
       "    }\n",
       "\n",
       "    .dataframe tbody tr th {\n",
       "        vertical-align: top;\n",
       "    }\n",
       "\n",
       "    .dataframe thead th {\n",
       "        text-align: right;\n",
       "    }\n",
       "</style>\n",
       "<table border=\"1\" class=\"dataframe\">\n",
       "  <thead>\n",
       "    <tr style=\"text-align: right;\">\n",
       "      <th></th>\n",
       "      <th>user_id</th>\n",
       "      <th>sex</th>\n",
       "      <th>state</th>\n",
       "      <th>age</th>\n",
       "      <th>date_joined</th>\n",
       "      <th>n_dependants</th>\n",
       "      <th>fam_status</th>\n",
       "      <th>income</th>\n",
       "      <th>order_id</th>\n",
       "      <th>order_number</th>\n",
       "      <th>...</th>\n",
       "      <th>busiest_days</th>\n",
       "      <th>busiest_period_of_day</th>\n",
       "      <th>max_order</th>\n",
       "      <th>loyalty_flag</th>\n",
       "      <th>mean_price</th>\n",
       "      <th>spending_flag</th>\n",
       "      <th>median_days</th>\n",
       "      <th>frequency_flag</th>\n",
       "      <th>_merge</th>\n",
       "      <th>region</th>\n",
       "    </tr>\n",
       "  </thead>\n",
       "  <tbody>\n",
       "    <tr>\n",
       "      <th>0</th>\n",
       "      <td>26711</td>\n",
       "      <td>Female</td>\n",
       "      <td>Missouri</td>\n",
       "      <td>48</td>\n",
       "      <td>1/1/2017</td>\n",
       "      <td>3</td>\n",
       "      <td>married</td>\n",
       "      <td>165665</td>\n",
       "      <td>2543867</td>\n",
       "      <td>5</td>\n",
       "      <td>...</td>\n",
       "      <td>Busiest days</td>\n",
       "      <td>Most orders</td>\n",
       "      <td>8</td>\n",
       "      <td>New customer</td>\n",
       "      <td>11.4</td>\n",
       "      <td>High spender</td>\n",
       "      <td>14.0</td>\n",
       "      <td>Regular customer</td>\n",
       "      <td>both</td>\n",
       "      <td>Midwest</td>\n",
       "    </tr>\n",
       "    <tr>\n",
       "      <th>1</th>\n",
       "      <td>26711</td>\n",
       "      <td>Female</td>\n",
       "      <td>Missouri</td>\n",
       "      <td>48</td>\n",
       "      <td>1/1/2017</td>\n",
       "      <td>3</td>\n",
       "      <td>married</td>\n",
       "      <td>165665</td>\n",
       "      <td>1285508</td>\n",
       "      <td>7</td>\n",
       "      <td>...</td>\n",
       "      <td>Regularly days</td>\n",
       "      <td>Most orders</td>\n",
       "      <td>8</td>\n",
       "      <td>New customer</td>\n",
       "      <td>11.4</td>\n",
       "      <td>High spender</td>\n",
       "      <td>14.0</td>\n",
       "      <td>Regular customer</td>\n",
       "      <td>both</td>\n",
       "      <td>Midwest</td>\n",
       "    </tr>\n",
       "    <tr>\n",
       "      <th>2</th>\n",
       "      <td>26711</td>\n",
       "      <td>Female</td>\n",
       "      <td>Missouri</td>\n",
       "      <td>48</td>\n",
       "      <td>1/1/2017</td>\n",
       "      <td>3</td>\n",
       "      <td>married</td>\n",
       "      <td>165665</td>\n",
       "      <td>2578584</td>\n",
       "      <td>8</td>\n",
       "      <td>...</td>\n",
       "      <td>Busiest days</td>\n",
       "      <td>Most orders</td>\n",
       "      <td>8</td>\n",
       "      <td>New customer</td>\n",
       "      <td>11.4</td>\n",
       "      <td>High spender</td>\n",
       "      <td>14.0</td>\n",
       "      <td>Regular customer</td>\n",
       "      <td>both</td>\n",
       "      <td>Midwest</td>\n",
       "    </tr>\n",
       "    <tr>\n",
       "      <th>3</th>\n",
       "      <td>26711</td>\n",
       "      <td>Female</td>\n",
       "      <td>Missouri</td>\n",
       "      <td>48</td>\n",
       "      <td>1/1/2017</td>\n",
       "      <td>3</td>\n",
       "      <td>married</td>\n",
       "      <td>165665</td>\n",
       "      <td>423547</td>\n",
       "      <td>2</td>\n",
       "      <td>...</td>\n",
       "      <td>Regularly days</td>\n",
       "      <td>Most orders</td>\n",
       "      <td>8</td>\n",
       "      <td>New customer</td>\n",
       "      <td>11.4</td>\n",
       "      <td>High spender</td>\n",
       "      <td>14.0</td>\n",
       "      <td>Regular customer</td>\n",
       "      <td>both</td>\n",
       "      <td>Midwest</td>\n",
       "    </tr>\n",
       "    <tr>\n",
       "      <th>4</th>\n",
       "      <td>26711</td>\n",
       "      <td>Female</td>\n",
       "      <td>Missouri</td>\n",
       "      <td>48</td>\n",
       "      <td>1/1/2017</td>\n",
       "      <td>3</td>\n",
       "      <td>married</td>\n",
       "      <td>165665</td>\n",
       "      <td>2524893</td>\n",
       "      <td>3</td>\n",
       "      <td>...</td>\n",
       "      <td>Slowest days</td>\n",
       "      <td>Most orders</td>\n",
       "      <td>8</td>\n",
       "      <td>New customer</td>\n",
       "      <td>11.4</td>\n",
       "      <td>High spender</td>\n",
       "      <td>14.0</td>\n",
       "      <td>Regular customer</td>\n",
       "      <td>both</td>\n",
       "      <td>Midwest</td>\n",
       "    </tr>\n",
       "  </tbody>\n",
       "</table>\n",
       "<p>5 rows × 31 columns</p>\n",
       "</div>"
      ],
      "text/plain": [
       "   user_id     sex     state  age date_joined  n_dependants fam_status  \\\n",
       "0    26711  Female  Missouri   48    1/1/2017             3    married   \n",
       "1    26711  Female  Missouri   48    1/1/2017             3    married   \n",
       "2    26711  Female  Missouri   48    1/1/2017             3    married   \n",
       "3    26711  Female  Missouri   48    1/1/2017             3    married   \n",
       "4    26711  Female  Missouri   48    1/1/2017             3    married   \n",
       "\n",
       "   income  order_id  order_number  ...    busiest_days  busiest_period_of_day  \\\n",
       "0  165665   2543867             5  ...    Busiest days            Most orders   \n",
       "1  165665   1285508             7  ...  Regularly days            Most orders   \n",
       "2  165665   2578584             8  ...    Busiest days            Most orders   \n",
       "3  165665    423547             2  ...  Regularly days            Most orders   \n",
       "4  165665   2524893             3  ...    Slowest days            Most orders   \n",
       "\n",
       "   max_order  loyalty_flag  mean_price  spending_flag median_days  \\\n",
       "0          8  New customer        11.4   High spender        14.0   \n",
       "1          8  New customer        11.4   High spender        14.0   \n",
       "2          8  New customer        11.4   High spender        14.0   \n",
       "3          8  New customer        11.4   High spender        14.0   \n",
       "4          8  New customer        11.4   High spender        14.0   \n",
       "\n",
       "     frequency_flag  _merge   region  \n",
       "0  Regular customer    both  Midwest  \n",
       "1  Regular customer    both  Midwest  \n",
       "2  Regular customer    both  Midwest  \n",
       "3  Regular customer    both  Midwest  \n",
       "4  Regular customer    both  Midwest  \n",
       "\n",
       "[5 rows x 31 columns]"
      ]
     },
     "execution_count": 19,
     "metadata": {},
     "output_type": "execute_result"
    }
   ],
   "source": [
    "df_ords_final.head()"
   ]
  },
  {
   "cell_type": "code",
   "execution_count": 20,
   "id": "516cf6c4",
   "metadata": {},
   "outputs": [],
   "source": [
    "# create cross tab for region and spending flag"
   ]
  },
  {
   "cell_type": "code",
   "execution_count": 21,
   "id": "ba2a5b10",
   "metadata": {},
   "outputs": [],
   "source": [
    "region_spend_crosstab = pd.crosstab(df_ords_final['region'], df_ords_final['spending_flag'], dropna = False)"
   ]
  },
  {
   "cell_type": "code",
   "execution_count": 22,
   "id": "3577066c",
   "metadata": {},
   "outputs": [
    {
     "data": {
      "text/html": [
       "<div>\n",
       "<style scoped>\n",
       "    .dataframe tbody tr th:only-of-type {\n",
       "        vertical-align: middle;\n",
       "    }\n",
       "\n",
       "    .dataframe tbody tr th {\n",
       "        vertical-align: top;\n",
       "    }\n",
       "\n",
       "    .dataframe thead th {\n",
       "        text-align: right;\n",
       "    }\n",
       "</style>\n",
       "<table border=\"1\" class=\"dataframe\">\n",
       "  <thead>\n",
       "    <tr style=\"text-align: right;\">\n",
       "      <th>spending_flag</th>\n",
       "      <th>High spender</th>\n",
       "      <th>Low spender</th>\n",
       "    </tr>\n",
       "    <tr>\n",
       "      <th>region</th>\n",
       "      <th></th>\n",
       "      <th></th>\n",
       "    </tr>\n",
       "  </thead>\n",
       "  <tbody>\n",
       "    <tr>\n",
       "      <th>Midwest</th>\n",
       "      <td>21196</td>\n",
       "      <td>211157</td>\n",
       "    </tr>\n",
       "    <tr>\n",
       "      <th>Northeast</th>\n",
       "      <td>16972</td>\n",
       "      <td>159843</td>\n",
       "    </tr>\n",
       "    <tr>\n",
       "      <th>South</th>\n",
       "      <td>29166</td>\n",
       "      <td>307785</td>\n",
       "    </tr>\n",
       "    <tr>\n",
       "      <th>West</th>\n",
       "      <td>22247</td>\n",
       "      <td>231634</td>\n",
       "    </tr>\n",
       "  </tbody>\n",
       "</table>\n",
       "</div>"
      ],
      "text/plain": [
       "spending_flag  High spender  Low spender\n",
       "region                                  \n",
       "Midwest               21196       211157\n",
       "Northeast             16972       159843\n",
       "South                 29166       307785\n",
       "West                  22247       231634"
      ]
     },
     "execution_count": 22,
     "metadata": {},
     "output_type": "execute_result"
    }
   ],
   "source": [
    "region_spend_crosstab"
   ]
  },
  {
   "cell_type": "code",
   "execution_count": 23,
   "id": "773181f9",
   "metadata": {},
   "outputs": [],
   "source": [
    "# create new column customer_activity to identify low-activity customers"
   ]
  },
  {
   "cell_type": "code",
   "execution_count": 24,
   "id": "c0e4c670",
   "metadata": {},
   "outputs": [],
   "source": [
    "df_ords_final.loc[df_ords_final['max_order']>=5,'customer_activity']='High-activity customer'\n",
    "df_ords_final.loc[df_ords_final['max_order']<5,'customer_activity']='Low-activity customer'"
   ]
  },
  {
   "cell_type": "code",
   "execution_count": 25,
   "id": "c3325034",
   "metadata": {},
   "outputs": [],
   "source": [
    "# Subset for High-activity customers"
   ]
  },
  {
   "cell_type": "code",
   "execution_count": 26,
   "id": "747fa384",
   "metadata": {},
   "outputs": [],
   "source": [
    "high_act_cus = df_ords_final[df_ords_final['customer_activity']=='High-activity customer']"
   ]
  },
  {
   "cell_type": "code",
   "execution_count": 27,
   "id": "f44a26f9",
   "metadata": {},
   "outputs": [],
   "source": [
    "# Checking"
   ]
  },
  {
   "cell_type": "code",
   "execution_count": 28,
   "id": "789625d4",
   "metadata": {},
   "outputs": [
    {
     "data": {
      "text/html": [
       "<div>\n",
       "<style scoped>\n",
       "    .dataframe tbody tr th:only-of-type {\n",
       "        vertical-align: middle;\n",
       "    }\n",
       "\n",
       "    .dataframe tbody tr th {\n",
       "        vertical-align: top;\n",
       "    }\n",
       "\n",
       "    .dataframe thead th {\n",
       "        text-align: right;\n",
       "    }\n",
       "</style>\n",
       "<table border=\"1\" class=\"dataframe\">\n",
       "  <thead>\n",
       "    <tr style=\"text-align: right;\">\n",
       "      <th></th>\n",
       "      <th>user_id</th>\n",
       "      <th>sex</th>\n",
       "      <th>state</th>\n",
       "      <th>age</th>\n",
       "      <th>date_joined</th>\n",
       "      <th>n_dependants</th>\n",
       "      <th>fam_status</th>\n",
       "      <th>income</th>\n",
       "      <th>order_id</th>\n",
       "      <th>order_number</th>\n",
       "      <th>...</th>\n",
       "      <th>busiest_period_of_day</th>\n",
       "      <th>max_order</th>\n",
       "      <th>loyalty_flag</th>\n",
       "      <th>mean_price</th>\n",
       "      <th>spending_flag</th>\n",
       "      <th>median_days</th>\n",
       "      <th>frequency_flag</th>\n",
       "      <th>_merge</th>\n",
       "      <th>region</th>\n",
       "      <th>customer_activity</th>\n",
       "    </tr>\n",
       "  </thead>\n",
       "  <tbody>\n",
       "    <tr>\n",
       "      <th>0</th>\n",
       "      <td>26711</td>\n",
       "      <td>Female</td>\n",
       "      <td>Missouri</td>\n",
       "      <td>48</td>\n",
       "      <td>1/1/2017</td>\n",
       "      <td>3</td>\n",
       "      <td>married</td>\n",
       "      <td>165665</td>\n",
       "      <td>2543867</td>\n",
       "      <td>5</td>\n",
       "      <td>...</td>\n",
       "      <td>Most orders</td>\n",
       "      <td>8</td>\n",
       "      <td>New customer</td>\n",
       "      <td>11.400000</td>\n",
       "      <td>High spender</td>\n",
       "      <td>14.0</td>\n",
       "      <td>Regular customer</td>\n",
       "      <td>both</td>\n",
       "      <td>Midwest</td>\n",
       "      <td>High-activity customer</td>\n",
       "    </tr>\n",
       "    <tr>\n",
       "      <th>1</th>\n",
       "      <td>26711</td>\n",
       "      <td>Female</td>\n",
       "      <td>Missouri</td>\n",
       "      <td>48</td>\n",
       "      <td>1/1/2017</td>\n",
       "      <td>3</td>\n",
       "      <td>married</td>\n",
       "      <td>165665</td>\n",
       "      <td>1285508</td>\n",
       "      <td>7</td>\n",
       "      <td>...</td>\n",
       "      <td>Most orders</td>\n",
       "      <td>8</td>\n",
       "      <td>New customer</td>\n",
       "      <td>11.400000</td>\n",
       "      <td>High spender</td>\n",
       "      <td>14.0</td>\n",
       "      <td>Regular customer</td>\n",
       "      <td>both</td>\n",
       "      <td>Midwest</td>\n",
       "      <td>High-activity customer</td>\n",
       "    </tr>\n",
       "    <tr>\n",
       "      <th>2</th>\n",
       "      <td>26711</td>\n",
       "      <td>Female</td>\n",
       "      <td>Missouri</td>\n",
       "      <td>48</td>\n",
       "      <td>1/1/2017</td>\n",
       "      <td>3</td>\n",
       "      <td>married</td>\n",
       "      <td>165665</td>\n",
       "      <td>2578584</td>\n",
       "      <td>8</td>\n",
       "      <td>...</td>\n",
       "      <td>Most orders</td>\n",
       "      <td>8</td>\n",
       "      <td>New customer</td>\n",
       "      <td>11.400000</td>\n",
       "      <td>High spender</td>\n",
       "      <td>14.0</td>\n",
       "      <td>Regular customer</td>\n",
       "      <td>both</td>\n",
       "      <td>Midwest</td>\n",
       "      <td>High-activity customer</td>\n",
       "    </tr>\n",
       "    <tr>\n",
       "      <th>3</th>\n",
       "      <td>26711</td>\n",
       "      <td>Female</td>\n",
       "      <td>Missouri</td>\n",
       "      <td>48</td>\n",
       "      <td>1/1/2017</td>\n",
       "      <td>3</td>\n",
       "      <td>married</td>\n",
       "      <td>165665</td>\n",
       "      <td>423547</td>\n",
       "      <td>2</td>\n",
       "      <td>...</td>\n",
       "      <td>Most orders</td>\n",
       "      <td>8</td>\n",
       "      <td>New customer</td>\n",
       "      <td>11.400000</td>\n",
       "      <td>High spender</td>\n",
       "      <td>14.0</td>\n",
       "      <td>Regular customer</td>\n",
       "      <td>both</td>\n",
       "      <td>Midwest</td>\n",
       "      <td>High-activity customer</td>\n",
       "    </tr>\n",
       "    <tr>\n",
       "      <th>4</th>\n",
       "      <td>26711</td>\n",
       "      <td>Female</td>\n",
       "      <td>Missouri</td>\n",
       "      <td>48</td>\n",
       "      <td>1/1/2017</td>\n",
       "      <td>3</td>\n",
       "      <td>married</td>\n",
       "      <td>165665</td>\n",
       "      <td>2524893</td>\n",
       "      <td>3</td>\n",
       "      <td>...</td>\n",
       "      <td>Most orders</td>\n",
       "      <td>8</td>\n",
       "      <td>New customer</td>\n",
       "      <td>11.400000</td>\n",
       "      <td>High spender</td>\n",
       "      <td>14.0</td>\n",
       "      <td>Regular customer</td>\n",
       "      <td>both</td>\n",
       "      <td>Midwest</td>\n",
       "      <td>High-activity customer</td>\n",
       "    </tr>\n",
       "    <tr>\n",
       "      <th>...</th>\n",
       "      <td>...</td>\n",
       "      <td>...</td>\n",
       "      <td>...</td>\n",
       "      <td>...</td>\n",
       "      <td>...</td>\n",
       "      <td>...</td>\n",
       "      <td>...</td>\n",
       "      <td>...</td>\n",
       "      <td>...</td>\n",
       "      <td>...</td>\n",
       "      <td>...</td>\n",
       "      <td>...</td>\n",
       "      <td>...</td>\n",
       "      <td>...</td>\n",
       "      <td>...</td>\n",
       "      <td>...</td>\n",
       "      <td>...</td>\n",
       "      <td>...</td>\n",
       "      <td>...</td>\n",
       "      <td>...</td>\n",
       "      <td>...</td>\n",
       "    </tr>\n",
       "    <tr>\n",
       "      <th>999993</th>\n",
       "      <td>19707</td>\n",
       "      <td>Female</td>\n",
       "      <td>Montana</td>\n",
       "      <td>27</td>\n",
       "      <td>4/1/2020</td>\n",
       "      <td>3</td>\n",
       "      <td>married</td>\n",
       "      <td>80165</td>\n",
       "      <td>268747</td>\n",
       "      <td>7</td>\n",
       "      <td>...</td>\n",
       "      <td>Most orders</td>\n",
       "      <td>7</td>\n",
       "      <td>New customer</td>\n",
       "      <td>11.883333</td>\n",
       "      <td>High spender</td>\n",
       "      <td>29.5</td>\n",
       "      <td>Non-frequent customer</td>\n",
       "      <td>both</td>\n",
       "      <td>West</td>\n",
       "      <td>High-activity customer</td>\n",
       "    </tr>\n",
       "    <tr>\n",
       "      <th>999994</th>\n",
       "      <td>19707</td>\n",
       "      <td>Female</td>\n",
       "      <td>Montana</td>\n",
       "      <td>27</td>\n",
       "      <td>4/1/2020</td>\n",
       "      <td>3</td>\n",
       "      <td>married</td>\n",
       "      <td>80165</td>\n",
       "      <td>2721243</td>\n",
       "      <td>1</td>\n",
       "      <td>...</td>\n",
       "      <td>Average orders</td>\n",
       "      <td>7</td>\n",
       "      <td>New customer</td>\n",
       "      <td>11.883333</td>\n",
       "      <td>High spender</td>\n",
       "      <td>29.5</td>\n",
       "      <td>Non-frequent customer</td>\n",
       "      <td>both</td>\n",
       "      <td>West</td>\n",
       "      <td>High-activity customer</td>\n",
       "    </tr>\n",
       "    <tr>\n",
       "      <th>999995</th>\n",
       "      <td>20302</td>\n",
       "      <td>Female</td>\n",
       "      <td>Arkansas</td>\n",
       "      <td>39</td>\n",
       "      <td>4/1/2020</td>\n",
       "      <td>1</td>\n",
       "      <td>married</td>\n",
       "      <td>63509</td>\n",
       "      <td>2850042</td>\n",
       "      <td>5</td>\n",
       "      <td>...</td>\n",
       "      <td>Average orders</td>\n",
       "      <td>7</td>\n",
       "      <td>New customer</td>\n",
       "      <td>12.133333</td>\n",
       "      <td>High spender</td>\n",
       "      <td>30.0</td>\n",
       "      <td>Non-frequent customer</td>\n",
       "      <td>both</td>\n",
       "      <td>South</td>\n",
       "      <td>High-activity customer</td>\n",
       "    </tr>\n",
       "    <tr>\n",
       "      <th>999996</th>\n",
       "      <td>20302</td>\n",
       "      <td>Female</td>\n",
       "      <td>Arkansas</td>\n",
       "      <td>39</td>\n",
       "      <td>4/1/2020</td>\n",
       "      <td>1</td>\n",
       "      <td>married</td>\n",
       "      <td>63509</td>\n",
       "      <td>1349657</td>\n",
       "      <td>6</td>\n",
       "      <td>...</td>\n",
       "      <td>Average orders</td>\n",
       "      <td>7</td>\n",
       "      <td>New customer</td>\n",
       "      <td>12.133333</td>\n",
       "      <td>High spender</td>\n",
       "      <td>30.0</td>\n",
       "      <td>Non-frequent customer</td>\n",
       "      <td>both</td>\n",
       "      <td>South</td>\n",
       "      <td>High-activity customer</td>\n",
       "    </tr>\n",
       "    <tr>\n",
       "      <th>999997</th>\n",
       "      <td>20302</td>\n",
       "      <td>Female</td>\n",
       "      <td>Arkansas</td>\n",
       "      <td>39</td>\n",
       "      <td>4/1/2020</td>\n",
       "      <td>1</td>\n",
       "      <td>married</td>\n",
       "      <td>63509</td>\n",
       "      <td>1229407</td>\n",
       "      <td>7</td>\n",
       "      <td>...</td>\n",
       "      <td>Average orders</td>\n",
       "      <td>7</td>\n",
       "      <td>New customer</td>\n",
       "      <td>12.133333</td>\n",
       "      <td>High spender</td>\n",
       "      <td>30.0</td>\n",
       "      <td>Non-frequent customer</td>\n",
       "      <td>both</td>\n",
       "      <td>South</td>\n",
       "      <td>High-activity customer</td>\n",
       "    </tr>\n",
       "  </tbody>\n",
       "</table>\n",
       "<p>952415 rows × 32 columns</p>\n",
       "</div>"
      ],
      "text/plain": [
       "        user_id     sex     state  age date_joined  n_dependants fam_status  \\\n",
       "0         26711  Female  Missouri   48    1/1/2017             3    married   \n",
       "1         26711  Female  Missouri   48    1/1/2017             3    married   \n",
       "2         26711  Female  Missouri   48    1/1/2017             3    married   \n",
       "3         26711  Female  Missouri   48    1/1/2017             3    married   \n",
       "4         26711  Female  Missouri   48    1/1/2017             3    married   \n",
       "...         ...     ...       ...  ...         ...           ...        ...   \n",
       "999993    19707  Female   Montana   27    4/1/2020             3    married   \n",
       "999994    19707  Female   Montana   27    4/1/2020             3    married   \n",
       "999995    20302  Female  Arkansas   39    4/1/2020             1    married   \n",
       "999996    20302  Female  Arkansas   39    4/1/2020             1    married   \n",
       "999997    20302  Female  Arkansas   39    4/1/2020             1    married   \n",
       "\n",
       "        income  order_id  order_number  ...  busiest_period_of_day  max_order  \\\n",
       "0       165665   2543867             5  ...            Most orders          8   \n",
       "1       165665   1285508             7  ...            Most orders          8   \n",
       "2       165665   2578584             8  ...            Most orders          8   \n",
       "3       165665    423547             2  ...            Most orders          8   \n",
       "4       165665   2524893             3  ...            Most orders          8   \n",
       "...        ...       ...           ...  ...                    ...        ...   \n",
       "999993   80165    268747             7  ...            Most orders          7   \n",
       "999994   80165   2721243             1  ...         Average orders          7   \n",
       "999995   63509   2850042             5  ...         Average orders          7   \n",
       "999996   63509   1349657             6  ...         Average orders          7   \n",
       "999997   63509   1229407             7  ...         Average orders          7   \n",
       "\n",
       "        loyalty_flag  mean_price  spending_flag  median_days  \\\n",
       "0       New customer   11.400000   High spender         14.0   \n",
       "1       New customer   11.400000   High spender         14.0   \n",
       "2       New customer   11.400000   High spender         14.0   \n",
       "3       New customer   11.400000   High spender         14.0   \n",
       "4       New customer   11.400000   High spender         14.0   \n",
       "...              ...         ...            ...          ...   \n",
       "999993  New customer   11.883333   High spender         29.5   \n",
       "999994  New customer   11.883333   High spender         29.5   \n",
       "999995  New customer   12.133333   High spender         30.0   \n",
       "999996  New customer   12.133333   High spender         30.0   \n",
       "999997  New customer   12.133333   High spender         30.0   \n",
       "\n",
       "               frequency_flag  _merge   region       customer_activity  \n",
       "0            Regular customer    both  Midwest  High-activity customer  \n",
       "1            Regular customer    both  Midwest  High-activity customer  \n",
       "2            Regular customer    both  Midwest  High-activity customer  \n",
       "3            Regular customer    both  Midwest  High-activity customer  \n",
       "4            Regular customer    both  Midwest  High-activity customer  \n",
       "...                       ...     ...      ...                     ...  \n",
       "999993  Non-frequent customer    both     West  High-activity customer  \n",
       "999994  Non-frequent customer    both     West  High-activity customer  \n",
       "999995  Non-frequent customer    both    South  High-activity customer  \n",
       "999996  Non-frequent customer    both    South  High-activity customer  \n",
       "999997  Non-frequent customer    both    South  High-activity customer  \n",
       "\n",
       "[952415 rows x 32 columns]"
      ]
     },
     "execution_count": 28,
     "metadata": {},
     "output_type": "execute_result"
    }
   ],
   "source": [
    "high_act_cus"
   ]
  },
  {
   "cell_type": "code",
   "execution_count": 29,
   "id": "1f045bc5",
   "metadata": {},
   "outputs": [],
   "source": [
    "# Export dataframe as Pickle"
   ]
  },
  {
   "cell_type": "code",
   "execution_count": 30,
   "id": "597d461c",
   "metadata": {},
   "outputs": [],
   "source": [
    "high_act_cus.to_pickle(r'/Users/pedropaulo/Desktop/Tasks CF/Instacart Basket Analysis/Data/Prepared Data/orders_products_customers_final.pkl')"
   ]
  },
  {
   "cell_type": "code",
   "execution_count": 31,
   "id": "5ca33c9f",
   "metadata": {},
   "outputs": [],
   "source": [
    "#creating an age flag"
   ]
  },
  {
   "cell_type": "code",
   "execution_count": 32,
   "id": "27657175",
   "metadata": {},
   "outputs": [],
   "source": [
    "df_ords_final.loc[df_ords_final['age']>65,'age_flag'] = 'Senior'"
   ]
  },
  {
   "cell_type": "code",
   "execution_count": 33,
   "id": "1c1fdfac",
   "metadata": {},
   "outputs": [],
   "source": [
    "df_ords_final.loc[(df_ords_final['age']<=65) & (df_ords_final['age']>44),'age_flag'] = 'Middle Age'"
   ]
  },
  {
   "cell_type": "code",
   "execution_count": 34,
   "id": "a03e8bf3",
   "metadata": {},
   "outputs": [],
   "source": [
    "df_ords_final.loc[df_ords_final['age']<=45,'age_flag'] = 'Young Adult'"
   ]
  },
  {
   "cell_type": "code",
   "execution_count": 35,
   "id": "24b33a6d",
   "metadata": {},
   "outputs": [],
   "source": [
    "# Checking "
   ]
  },
  {
   "cell_type": "code",
   "execution_count": 36,
   "id": "0999868e",
   "metadata": {},
   "outputs": [
    {
     "data": {
      "text/plain": [
       "Young Adult    438909\n",
       "Middle Age     312921\n",
       "Senior         248170\n",
       "Name: age_flag, dtype: int64"
      ]
     },
     "execution_count": 36,
     "metadata": {},
     "output_type": "execute_result"
    }
   ],
   "source": [
    "df_ords_final['age_flag'].value_counts(dropna = False)"
   ]
  },
  {
   "cell_type": "code",
   "execution_count": 37,
   "id": "37b9cc2b",
   "metadata": {},
   "outputs": [
    {
     "data": {
      "image/png": "[encoded data removed]",
      "text/plain": [
       "<Figure size 640x480 with 1 Axes>"
      ]
     },
     "metadata": {},
     "output_type": "display_data"
    }
   ],
   "source": [
    "age_bar = df_ords_final['age_flag'].value_counts().plot.bar()"
   ]
  },
  {
   "cell_type": "code",
   "execution_count": 38,
   "id": "77e43935",
   "metadata": {},
   "outputs": [],
   "source": [
    "# Creating a crosstab and bar between age and region"
   ]
  },
  {
   "cell_type": "code",
   "execution_count": 39,
   "id": "a08cebc9",
   "metadata": {},
   "outputs": [],
   "source": [
    "region_age=pd.crosstab(df_ords_final['region'],df_ords_final['age_flag'],dropna=False)"
   ]
  },
  {
   "cell_type": "code",
   "execution_count": 101,
   "id": "61c7381a",
   "metadata": {},
   "outputs": [
    {
     "data": {
      "image/png": "[encoded data removed]",
      "text/plain": [
       "<Figure size 640x480 with 1 Axes>"
      ]
     },
     "metadata": {},
     "output_type": "display_data"
    }
   ],
   "source": [
    "regions_age=region_age.plot.bar()\n",
    "plt.title('Age Group by Region')\n",
    "plt.show()"
   ]
  },
  {
   "cell_type": "code",
   "execution_count": 41,
   "id": "dd74a7c6",
   "metadata": {},
   "outputs": [],
   "source": [
    "# creating a crosstab between department and age"
   ]
  },
  {
   "cell_type": "code",
   "execution_count": 42,
   "id": "6d6c7384",
   "metadata": {},
   "outputs": [],
   "source": [
    "department_age=pd.crosstab(df_ords_final['department_id'],df_ords_final['age_flag'],dropna=False,)"
   ]
  },
  {
   "cell_type": "code",
   "execution_count": 43,
   "id": "6cddb541",
   "metadata": {},
   "outputs": [
    {
     "data": {
      "text/html": [
       "<div>\n",
       "<style scoped>\n",
       "    .dataframe tbody tr th:only-of-type {\n",
       "        vertical-align: middle;\n",
       "    }\n",
       "\n",
       "    .dataframe tbody tr th {\n",
       "        vertical-align: top;\n",
       "    }\n",
       "\n",
       "    .dataframe thead th {\n",
       "        text-align: right;\n",
       "    }\n",
       "</style>\n",
       "<table border=\"1\" class=\"dataframe\">\n",
       "  <thead>\n",
       "    <tr style=\"text-align: right;\">\n",
       "      <th>age_flag</th>\n",
       "      <th>Middle Age</th>\n",
       "      <th>Senior</th>\n",
       "      <th>Young Adult</th>\n",
       "    </tr>\n",
       "    <tr>\n",
       "      <th>department_id</th>\n",
       "      <th></th>\n",
       "      <th></th>\n",
       "      <th></th>\n",
       "    </tr>\n",
       "  </thead>\n",
       "  <tbody>\n",
       "    <tr>\n",
       "      <th>1.0</th>\n",
       "      <td>5302</td>\n",
       "      <td>4547</td>\n",
       "      <td>8081</td>\n",
       "    </tr>\n",
       "    <tr>\n",
       "      <th>3.0</th>\n",
       "      <td>1161</td>\n",
       "      <td>977</td>\n",
       "      <td>1671</td>\n",
       "    </tr>\n",
       "    <tr>\n",
       "      <th>4.0</th>\n",
       "      <td>216584</td>\n",
       "      <td>173470</td>\n",
       "      <td>304031</td>\n",
       "    </tr>\n",
       "    <tr>\n",
       "      <th>6.0</th>\n",
       "      <td>169</td>\n",
       "      <td>168</td>\n",
       "      <td>271</td>\n",
       "    </tr>\n",
       "    <tr>\n",
       "      <th>7.0</th>\n",
       "      <td>8605</td>\n",
       "      <td>6503</td>\n",
       "      <td>11951</td>\n",
       "    </tr>\n",
       "    <tr>\n",
       "      <th>11.0</th>\n",
       "      <td>87</td>\n",
       "      <td>93</td>\n",
       "      <td>97</td>\n",
       "    </tr>\n",
       "    <tr>\n",
       "      <th>12.0</th>\n",
       "      <td>78</td>\n",
       "      <td>94</td>\n",
       "      <td>132</td>\n",
       "    </tr>\n",
       "    <tr>\n",
       "      <th>13.0</th>\n",
       "      <td>4529</td>\n",
       "      <td>3701</td>\n",
       "      <td>6427</td>\n",
       "    </tr>\n",
       "    <tr>\n",
       "      <th>14.0</th>\n",
       "      <td>1016</td>\n",
       "      <td>745</td>\n",
       "      <td>1410</td>\n",
       "    </tr>\n",
       "    <tr>\n",
       "      <th>15.0</th>\n",
       "      <td>318</td>\n",
       "      <td>280</td>\n",
       "      <td>447</td>\n",
       "    </tr>\n",
       "    <tr>\n",
       "      <th>16.0</th>\n",
       "      <td>45279</td>\n",
       "      <td>33447</td>\n",
       "      <td>62173</td>\n",
       "    </tr>\n",
       "    <tr>\n",
       "      <th>17.0</th>\n",
       "      <td>108</td>\n",
       "      <td>88</td>\n",
       "      <td>177</td>\n",
       "    </tr>\n",
       "    <tr>\n",
       "      <th>19.0</th>\n",
       "      <td>10736</td>\n",
       "      <td>8622</td>\n",
       "      <td>15151</td>\n",
       "    </tr>\n",
       "    <tr>\n",
       "      <th>20.0</th>\n",
       "      <td>18949</td>\n",
       "      <td>15435</td>\n",
       "      <td>26890</td>\n",
       "    </tr>\n",
       "  </tbody>\n",
       "</table>\n",
       "</div>"
      ],
      "text/plain": [
       "age_flag       Middle Age  Senior  Young Adult\n",
       "department_id                                 \n",
       "1.0                  5302    4547         8081\n",
       "3.0                  1161     977         1671\n",
       "4.0                216584  173470       304031\n",
       "6.0                   169     168          271\n",
       "7.0                  8605    6503        11951\n",
       "11.0                   87      93           97\n",
       "12.0                   78      94          132\n",
       "13.0                 4529    3701         6427\n",
       "14.0                 1016     745         1410\n",
       "15.0                  318     280          447\n",
       "16.0                45279   33447        62173\n",
       "17.0                  108      88          177\n",
       "19.0                10736    8622        15151\n",
       "20.0                18949   15435        26890"
      ]
     },
     "execution_count": 43,
     "metadata": {},
     "output_type": "execute_result"
    }
   ],
   "source": [
    "department_age"
   ]
  },
  {
   "cell_type": "code",
   "execution_count": 44,
   "id": "7ae6632a",
   "metadata": {},
   "outputs": [],
   "source": [
    "# creating bar charts for department segments"
   ]
  },
  {
   "cell_type": "code",
   "execution_count": 45,
   "id": "3345d6cd",
   "metadata": {},
   "outputs": [],
   "source": [
    "department_names = {1: 'Frozen', 2: 'Other', 3: 'Bakery', 4: 'Produce',5: 'Alcohol', 6: 'International',7: 'Beverages', 8:'Pets',9:'Dry Goods Pasta',10: 'Bulk', 11: 'Personal Care', 12: 'Meat/Seafood', 13: 'Pantry', 14: 'Breakfast',15:'Canned Goods', 16: 'Dairy/Eggs', 17: 'Household', 18: ' Babies', 19:'Snacks',20:'Deli',21:'Missing'}"
   ]
  },
  {
   "cell_type": "code",
   "execution_count": 46,
   "id": "5ff61220",
   "metadata": {},
   "outputs": [],
   "source": [
    "department_values = df_ords_final['department_id'].value_counts()"
   ]
  },
  {
   "cell_type": "code",
   "execution_count": 47,
   "id": "fba71164",
   "metadata": {
    "scrolled": false
   },
   "outputs": [
    {
     "data": {
      "image/png": "[encoded data removed]",
      "text/plain": [
       "<Figure size 640x480 with 1 Axes>"
      ]
     },
     "metadata": {},
     "output_type": "display_data"
    }
   ],
   "source": [
    "df_dep = ax = department_values.plot.bar()\n",
    "ax.set_xticklabels([department_names.get(x, '') for x in department_values.index])\n",
    "for i, v in enumerate(department_values):\n",
    "    ax.text(i, v, str(v), ha='center', va='bottom')\n",
    "    plt.show()"
   ]
  },
  {
   "cell_type": "code",
   "execution_count": 48,
   "id": "19ffae75",
   "metadata": {},
   "outputs": [],
   "source": [
    "# create a bar chart for income level"
   ]
  },
  {
   "cell_type": "code",
   "execution_count": 49,
   "id": "8390a51c",
   "metadata": {},
   "outputs": [
    {
     "data": {
      "text/plain": [
       "count    1000000.000000\n",
       "mean       98013.011823\n",
       "std        41329.506210\n",
       "min        26024.000000\n",
       "25%        65915.000000\n",
       "50%        95933.000000\n",
       "75%       126435.000000\n",
       "max       593901.000000\n",
       "Name: income, dtype: float64"
      ]
     },
     "execution_count": 49,
     "metadata": {},
     "output_type": "execute_result"
    }
   ],
   "source": [
    "df_ords_final['income'].describe()"
   ]
  },
  {
   "cell_type": "code",
   "execution_count": 50,
   "id": "8771c054",
   "metadata": {},
   "outputs": [],
   "source": [
    "df_ords_final.loc[df_ords_final['income'] >= 40000 & (df_ords_final['income'] < 80000), 'income_level'] = 'Moderate-income'"
   ]
  },
  {
   "cell_type": "code",
   "execution_count": 51,
   "id": "3b9091e6",
   "metadata": {},
   "outputs": [],
   "source": [
    "df_ords_final.loc[df_ords_final['income']<40000,'income_level']='Low-income'"
   ]
  },
  {
   "cell_type": "code",
   "execution_count": 52,
   "id": "bf487c21",
   "metadata": {},
   "outputs": [],
   "source": [
    "df_ords_final.loc[df_ords_final['income']>= 80000,'income_level']='High-income'"
   ]
  },
  {
   "cell_type": "code",
   "execution_count": 137,
   "id": "9e8f79aa",
   "metadata": {},
   "outputs": [
    {
     "data": {
      "text/plain": [
       "High-income        631711\n",
       "Moderate-income    311065\n",
       "Low-income          57224\n",
       "Name: income_level, dtype: int64"
      ]
     },
     "execution_count": 137,
     "metadata": {},
     "output_type": "execute_result"
    }
   ],
   "source": [
    "df_ords_final['income_level'].value_counts(dropna = False)"
   ]
  },
  {
   "cell_type": "code",
   "execution_count": 54,
   "id": "eaa051c2",
   "metadata": {},
   "outputs": [
    {
     "data": {
      "image/png": "[encoded data removed]",
      "text/plain": [
       "<Figure size 640x480 with 1 Axes>"
      ]
     },
     "metadata": {},
     "output_type": "display_data"
    }
   ],
   "source": [
    "income_bar = df_ords_final['income_level'].value_counts().plot.bar()"
   ]
  },
  {
   "cell_type": "code",
   "execution_count": null,
   "id": "993aa659",
   "metadata": {},
   "outputs": [],
   "source": [
    "# Creating a bar chart for Income Level by Region"
   ]
  },
  {
   "cell_type": "code",
   "execution_count": 55,
   "id": "4d122c59",
   "metadata": {},
   "outputs": [],
   "source": [
    "region_income=pd.crosstab(df_ords_final['region'],df_ords_final['income_level'], dropna=False)"
   ]
  },
  {
   "cell_type": "code",
   "execution_count": 56,
   "id": "25ff6fca",
   "metadata": {},
   "outputs": [],
   "source": [
    "region_income = region_income.reindex(['Low-income', 'Moderate-income', 'High-income'], \n",
    "     axis=\"columns\")"
   ]
  },
  {
   "cell_type": "code",
   "execution_count": 105,
   "id": "96129542",
   "metadata": {},
   "outputs": [
    {
     "data": {
      "image/png": "[encoded data removed]",
      "text/plain": [
       "<Figure size 640x480 with 1 Axes>"
      ]
     },
     "metadata": {},
     "output_type": "display_data"
    }
   ],
   "source": [
    "regions_income=region_income.plot.bar()\n",
    "plt.title('Income Level by Region')\n",
    "plt.show()"
   ]
  },
  {
   "cell_type": "code",
   "execution_count": null,
   "id": "0e100415",
   "metadata": {},
   "outputs": [],
   "source": [
    "# Creating a bar chart for customers who has kids or not"
   ]
  },
  {
   "cell_type": "code",
   "execution_count": 58,
   "id": "5a8e1e56",
   "metadata": {},
   "outputs": [],
   "source": [
    "kids = [1,2,3]"
   ]
  },
  {
   "cell_type": "code",
   "execution_count": 64,
   "id": "842013e8",
   "metadata": {},
   "outputs": [],
   "source": [
    "no_kids = [0]"
   ]
  },
  {
   "cell_type": "code",
   "execution_count": 60,
   "id": "8d84b24f",
   "metadata": {},
   "outputs": [],
   "source": [
    "df_ords_final.loc[df_ords_final['n_dependants'].isin(kids), 'kids'] = 'has kids'"
   ]
  },
  {
   "cell_type": "code",
   "execution_count": 65,
   "id": "bb8f0b44",
   "metadata": {},
   "outputs": [],
   "source": [
    "df_ords_final.loc[df_ords_final['n_dependants'].isin(no_kids), 'kids'] = 'no_kids'"
   ]
  },
  {
   "cell_type": "code",
   "execution_count": null,
   "id": "e2881f24",
   "metadata": {},
   "outputs": [],
   "source": [
    "#Checking"
   ]
  },
  {
   "cell_type": "code",
   "execution_count": 66,
   "id": "e3b1b5a2",
   "metadata": {},
   "outputs": [
    {
     "data": {
      "text/plain": [
       "has kids    753083\n",
       "no_kids     246917\n",
       "Name: kids, dtype: int64"
      ]
     },
     "execution_count": 66,
     "metadata": {},
     "output_type": "execute_result"
    }
   ],
   "source": [
    "df_ords_final['kids'].value_counts(dropna = False)"
   ]
  },
  {
   "cell_type": "code",
   "execution_count": null,
   "id": "eae1da1c",
   "metadata": {},
   "outputs": [],
   "source": [
    "# Creating a bar chart "
   ]
  },
  {
   "cell_type": "code",
   "execution_count": 67,
   "id": "84f65c05",
   "metadata": {},
   "outputs": [
    {
     "data": {
      "image/png": "[encoded data removed]",
      "text/plain": [
       "<Figure size 640x480 with 1 Axes>"
      ]
     },
     "metadata": {},
     "output_type": "display_data"
    }
   ],
   "source": [
    "bar_kids = df_ords_final['kids'].value_counts().sort_index().plot.bar()"
   ]
  },
  {
   "cell_type": "code",
   "execution_count": null,
   "id": "875c81e2",
   "metadata": {},
   "outputs": [],
   "source": [
    "# Create a pie chart for Family Status"
   ]
  },
  {
   "cell_type": "code",
   "execution_count": 71,
   "id": "2b84691d",
   "metadata": {},
   "outputs": [],
   "source": [
    "df_ords_final.loc[(df_ords_final['fam_status'].isin(['divorced/widowed', 'living with parents and siblings', 'single'])) & (df_ords_final['n_dependants']==0), 'family_flag'] = 'single no dependants'\n",
    "df_ords_final.loc[(df_ords_final['fam_status'].isin(['divorced/widowed', 'living with parents and siblings', 'single'])) & (df_ords_final['n_dependants'] >=1), 'family_flag'] = 'single with dependants'\n",
    "df_ords_final.loc[(df_ords_final['fam_status'] == 'married') & (df_ords_final['n_dependants'] == 1), 'family_flag'] = 'married no dependants'\n",
    "df_ords_final.loc[(df_ords_final['fam_status'] == 'married') & (df_ords_final['n_dependants'] > 1), 'family_flag'] = 'married with dependants'"
   ]
  },
  {
   "cell_type": "code",
   "execution_count": null,
   "id": "a36476fa",
   "metadata": {},
   "outputs": [],
   "source": [
    "#Checking"
   ]
  },
  {
   "cell_type": "code",
   "execution_count": 72,
   "id": "0816b85f",
   "metadata": {},
   "outputs": [
    {
     "data": {
      "text/plain": [
       "married with dependants    469453\n",
       "single no dependants       246917\n",
       "married no dependants      234468\n",
       "single with dependants      49162\n",
       "Name: family_flag, dtype: int64"
      ]
     },
     "execution_count": 72,
     "metadata": {},
     "output_type": "execute_result"
    }
   ],
   "source": [
    "df_ords_final['family_flag'].value_counts()"
   ]
  },
  {
   "cell_type": "code",
   "execution_count": 73,
   "id": "1351e4d9",
   "metadata": {},
   "outputs": [
    {
     "data": {
      "image/png": "[encoded data removed]",
      "text/plain": [
       "<Figure size 640x480 with 1 Axes>"
      ]
     },
     "metadata": {},
     "output_type": "display_data"
    }
   ],
   "source": [
    "family_flag_pie = df_ords_final['family_flag'].value_counts().plot.pie(title = 'Family Status Profile Distribution', label = '', autopct='%1.1f%%')"
   ]
  },
  {
   "cell_type": "code",
   "execution_count": null,
   "id": "7e4dfaea",
   "metadata": {},
   "outputs": [],
   "source": [
    "# Create a bar chart for Family Status and department"
   ]
  },
  {
   "cell_type": "code",
   "execution_count": 91,
   "id": "ac6c5ac1",
   "metadata": {},
   "outputs": [],
   "source": [
    "department_family=pd.crosstab(df_ords_final['department_id'],df_ords_final['family_flag'],dropna=False,)"
   ]
  },
  {
   "cell_type": "code",
   "execution_count": 92,
   "id": "d56bf6bd",
   "metadata": {},
   "outputs": [],
   "source": [
    "department_family = department_family.sort_values(by=['married with dependants'], ascending=True)"
   ]
  },
  {
   "cell_type": "code",
   "execution_count": 109,
   "id": "4bc80fd6",
   "metadata": {},
   "outputs": [
    {
     "data": {
      "image/png": "[encoded data removed]",
      "text/plain": [
       "<Figure size 640x480 with 1 Axes>"
      ]
     },
     "metadata": {},
     "output_type": "display_data"
    }
   ],
   "source": [
    "department_family=department_family.plot.barh(stacked=True)\n",
    "plt.title('Family Status by Department')\n",
    "plt.show()"
   ]
  },
  {
   "cell_type": "code",
   "execution_count": null,
   "id": "df2bcbcf",
   "metadata": {},
   "outputs": [],
   "source": [
    "# Create a bar chart between Days of week and age flag"
   ]
  },
  {
   "cell_type": "code",
   "execution_count": 69,
   "id": "532b55a2",
   "metadata": {},
   "outputs": [],
   "source": [
    "age_counts = df_ords_final.groupby(['orders_day_of_week','age_flag']).size().unstack(fill_value=0)"
   ]
  },
  {
   "cell_type": "code",
   "execution_count": 135,
   "id": "18cc33e5",
   "metadata": {},
   "outputs": [
    {
     "data": {
      "image/png": "[encoded data removed]",
      "text/plain": [
       "<Figure size 640x480 with 1 Axes>"
      ]
     },
     "metadata": {},
     "output_type": "display_data"
    }
   ],
   "source": [
    "bar_age_counts = age_counts.plot.bar(stacked=False )"
   ]
  },
  {
   "cell_type": "code",
   "execution_count": null,
   "id": "150504fc",
   "metadata": {},
   "outputs": [],
   "source": [
    "# Create a bar chart between hour of day and age flag"
   ]
  },
  {
   "cell_type": "code",
   "execution_count": 81,
   "id": "d916127e",
   "metadata": {},
   "outputs": [],
   "source": [
    "age_counts_2 = df_ords_final.groupby(['order_hour_of_day','age_flag']).size().unstack(fill_value=0)"
   ]
  },
  {
   "cell_type": "code",
   "execution_count": 123,
   "id": "581c4aad",
   "metadata": {},
   "outputs": [
    {
     "data": {
      "image/png": "[encoded data removed]",
      "text/plain": [
       "<Figure size 640x480 with 1 Axes>"
      ]
     },
     "metadata": {},
     "output_type": "display_data"
    }
   ],
   "source": [
    "bar_age_counts_2 = age_counts_2.plot.bar(stacked=False )"
   ]
  },
  {
   "cell_type": "code",
   "execution_count": null,
   "id": "e0e0cd00",
   "metadata": {},
   "outputs": [],
   "source": [
    "# Aggregations"
   ]
  },
  {
   "cell_type": "code",
   "execution_count": 94,
   "id": "a423d6d8",
   "metadata": {},
   "outputs": [
    {
     "data": {
      "text/html": [
       "<div>\n",
       "<style scoped>\n",
       "    .dataframe tbody tr th:only-of-type {\n",
       "        vertical-align: middle;\n",
       "    }\n",
       "\n",
       "    .dataframe tbody tr th {\n",
       "        vertical-align: top;\n",
       "    }\n",
       "\n",
       "    .dataframe thead tr th {\n",
       "        text-align: left;\n",
       "    }\n",
       "\n",
       "    .dataframe thead tr:last-of-type th {\n",
       "        text-align: right;\n",
       "    }\n",
       "</style>\n",
       "<table border=\"1\" class=\"dataframe\">\n",
       "  <thead>\n",
       "    <tr>\n",
       "      <th></th>\n",
       "      <th colspan=\"3\" halign=\"left\">prices</th>\n",
       "    </tr>\n",
       "    <tr>\n",
       "      <th></th>\n",
       "      <th>mean</th>\n",
       "      <th>min</th>\n",
       "      <th>max</th>\n",
       "    </tr>\n",
       "    <tr>\n",
       "      <th>age_flag</th>\n",
       "      <th></th>\n",
       "      <th></th>\n",
       "      <th></th>\n",
       "    </tr>\n",
       "  </thead>\n",
       "  <tbody>\n",
       "    <tr>\n",
       "      <th>Middle Age</th>\n",
       "      <td>7.525670</td>\n",
       "      <td>1.0</td>\n",
       "      <td>14.8</td>\n",
       "    </tr>\n",
       "    <tr>\n",
       "      <th>Senior</th>\n",
       "      <td>7.566327</td>\n",
       "      <td>1.0</td>\n",
       "      <td>14.8</td>\n",
       "    </tr>\n",
       "    <tr>\n",
       "      <th>Young Adult</th>\n",
       "      <td>7.567838</td>\n",
       "      <td>1.0</td>\n",
       "      <td>14.8</td>\n",
       "    </tr>\n",
       "  </tbody>\n",
       "</table>\n",
       "</div>"
      ],
      "text/plain": [
       "               prices           \n",
       "                 mean  min   max\n",
       "age_flag                        \n",
       "Middle Age   7.525670  1.0  14.8\n",
       "Senior       7.566327  1.0  14.8\n",
       "Young Adult  7.567838  1.0  14.8"
      ]
     },
     "execution_count": 94,
     "metadata": {},
     "output_type": "execute_result"
    }
   ],
   "source": [
    "df_ords_final.groupby('age_flag').agg({'prices': ['mean', 'min', 'max']})"
   ]
  },
  {
   "cell_type": "code",
   "execution_count": 95,
   "id": "0647d6b9",
   "metadata": {},
   "outputs": [
    {
     "data": {
      "text/html": [
       "<div>\n",
       "<style scoped>\n",
       "    .dataframe tbody tr th:only-of-type {\n",
       "        vertical-align: middle;\n",
       "    }\n",
       "\n",
       "    .dataframe tbody tr th {\n",
       "        vertical-align: top;\n",
       "    }\n",
       "\n",
       "    .dataframe thead tr th {\n",
       "        text-align: left;\n",
       "    }\n",
       "\n",
       "    .dataframe thead tr:last-of-type th {\n",
       "        text-align: right;\n",
       "    }\n",
       "</style>\n",
       "<table border=\"1\" class=\"dataframe\">\n",
       "  <thead>\n",
       "    <tr>\n",
       "      <th></th>\n",
       "      <th colspan=\"3\" halign=\"left\">prices</th>\n",
       "    </tr>\n",
       "    <tr>\n",
       "      <th></th>\n",
       "      <th>mean</th>\n",
       "      <th>min</th>\n",
       "      <th>max</th>\n",
       "    </tr>\n",
       "    <tr>\n",
       "      <th>kids</th>\n",
       "      <th></th>\n",
       "      <th></th>\n",
       "      <th></th>\n",
       "    </tr>\n",
       "  </thead>\n",
       "  <tbody>\n",
       "    <tr>\n",
       "      <th>has kids</th>\n",
       "      <td>7.556506</td>\n",
       "      <td>1.0</td>\n",
       "      <td>14.8</td>\n",
       "    </tr>\n",
       "    <tr>\n",
       "      <th>no_kids</th>\n",
       "      <td>7.547442</td>\n",
       "      <td>1.0</td>\n",
       "      <td>14.8</td>\n",
       "    </tr>\n",
       "  </tbody>\n",
       "</table>\n",
       "</div>"
      ],
      "text/plain": [
       "            prices           \n",
       "              mean  min   max\n",
       "kids                         \n",
       "has kids  7.556506  1.0  14.8\n",
       "no_kids   7.547442  1.0  14.8"
      ]
     },
     "execution_count": 95,
     "metadata": {},
     "output_type": "execute_result"
    }
   ],
   "source": [
    "df_ords_final.groupby('kids').agg({'prices': ['mean', 'min', 'max']})"
   ]
  },
  {
   "cell_type": "code",
   "execution_count": 96,
   "id": "0f1e7b5f",
   "metadata": {},
   "outputs": [
    {
     "data": {
      "text/html": [
       "<div>\n",
       "<style scoped>\n",
       "    .dataframe tbody tr th:only-of-type {\n",
       "        vertical-align: middle;\n",
       "    }\n",
       "\n",
       "    .dataframe tbody tr th {\n",
       "        vertical-align: top;\n",
       "    }\n",
       "\n",
       "    .dataframe thead tr th {\n",
       "        text-align: left;\n",
       "    }\n",
       "\n",
       "    .dataframe thead tr:last-of-type th {\n",
       "        text-align: right;\n",
       "    }\n",
       "</style>\n",
       "<table border=\"1\" class=\"dataframe\">\n",
       "  <thead>\n",
       "    <tr>\n",
       "      <th></th>\n",
       "      <th colspan=\"3\" halign=\"left\">prices</th>\n",
       "    </tr>\n",
       "    <tr>\n",
       "      <th></th>\n",
       "      <th>mean</th>\n",
       "      <th>min</th>\n",
       "      <th>max</th>\n",
       "    </tr>\n",
       "    <tr>\n",
       "      <th>income_level</th>\n",
       "      <th></th>\n",
       "      <th></th>\n",
       "      <th></th>\n",
       "    </tr>\n",
       "  </thead>\n",
       "  <tbody>\n",
       "    <tr>\n",
       "      <th>High-income</th>\n",
       "      <td>7.672206</td>\n",
       "      <td>1.0</td>\n",
       "      <td>14.8</td>\n",
       "    </tr>\n",
       "    <tr>\n",
       "      <th>Low-income</th>\n",
       "      <td>6.660244</td>\n",
       "      <td>1.0</td>\n",
       "      <td>14.8</td>\n",
       "    </tr>\n",
       "    <tr>\n",
       "      <th>Moderate-income</th>\n",
       "      <td>7.479225</td>\n",
       "      <td>1.0</td>\n",
       "      <td>14.8</td>\n",
       "    </tr>\n",
       "  </tbody>\n",
       "</table>\n",
       "</div>"
      ],
      "text/plain": [
       "                   prices           \n",
       "                     mean  min   max\n",
       "income_level                        \n",
       "High-income      7.672206  1.0  14.8\n",
       "Low-income       6.660244  1.0  14.8\n",
       "Moderate-income  7.479225  1.0  14.8"
      ]
     },
     "execution_count": 96,
     "metadata": {},
     "output_type": "execute_result"
    }
   ],
   "source": [
    "df_ords_final.groupby('income_level').agg({'prices': ['mean', 'min', 'max']})"
   ]
  },
  {
   "cell_type": "code",
   "execution_count": 97,
   "id": "4e94f614",
   "metadata": {},
   "outputs": [
    {
     "data": {
      "text/html": [
       "<div>\n",
       "<style scoped>\n",
       "    .dataframe tbody tr th:only-of-type {\n",
       "        vertical-align: middle;\n",
       "    }\n",
       "\n",
       "    .dataframe tbody tr th {\n",
       "        vertical-align: top;\n",
       "    }\n",
       "\n",
       "    .dataframe thead tr th {\n",
       "        text-align: left;\n",
       "    }\n",
       "\n",
       "    .dataframe thead tr:last-of-type th {\n",
       "        text-align: right;\n",
       "    }\n",
       "</style>\n",
       "<table border=\"1\" class=\"dataframe\">\n",
       "  <thead>\n",
       "    <tr>\n",
       "      <th></th>\n",
       "      <th colspan=\"3\" halign=\"left\">prices</th>\n",
       "    </tr>\n",
       "    <tr>\n",
       "      <th></th>\n",
       "      <th>mean</th>\n",
       "      <th>min</th>\n",
       "      <th>max</th>\n",
       "    </tr>\n",
       "    <tr>\n",
       "      <th>fam_status</th>\n",
       "      <th></th>\n",
       "      <th></th>\n",
       "      <th></th>\n",
       "    </tr>\n",
       "  </thead>\n",
       "  <tbody>\n",
       "    <tr>\n",
       "      <th>divorced/widowed</th>\n",
       "      <td>7.543426</td>\n",
       "      <td>1.0</td>\n",
       "      <td>14.8</td>\n",
       "    </tr>\n",
       "    <tr>\n",
       "      <th>living with parents and siblings</th>\n",
       "      <td>7.594907</td>\n",
       "      <td>1.0</td>\n",
       "      <td>14.8</td>\n",
       "    </tr>\n",
       "    <tr>\n",
       "      <th>married</th>\n",
       "      <td>7.553824</td>\n",
       "      <td>1.0</td>\n",
       "      <td>14.8</td>\n",
       "    </tr>\n",
       "    <tr>\n",
       "      <th>single</th>\n",
       "      <td>7.549535</td>\n",
       "      <td>1.0</td>\n",
       "      <td>14.8</td>\n",
       "    </tr>\n",
       "  </tbody>\n",
       "</table>\n",
       "</div>"
      ],
      "text/plain": [
       "                                    prices           \n",
       "                                      mean  min   max\n",
       "fam_status                                           \n",
       "divorced/widowed                  7.543426  1.0  14.8\n",
       "living with parents and siblings  7.594907  1.0  14.8\n",
       "married                           7.553824  1.0  14.8\n",
       "single                            7.549535  1.0  14.8"
      ]
     },
     "execution_count": 97,
     "metadata": {},
     "output_type": "execute_result"
    }
   ],
   "source": [
    "df_ords_final.groupby('fam_status').agg({'prices': ['mean', 'min', 'max']})"
   ]
  },
  {
   "cell_type": "code",
   "execution_count": null,
   "id": "015b5b51",
   "metadata": {},
   "outputs": [],
   "source": [
    "# Exporting visualizations"
   ]
  },
  {
   "cell_type": "code",
   "execution_count": 125,
   "id": "c2c7fed3",
   "metadata": {},
   "outputs": [],
   "source": [
    "age_bar.figure.savefig(r'/Users/pedropaulo/Desktop/Tasks CF/Instacart Basket Analysis/Analysis/Visualizations/age_bar')"
   ]
  },
  {
   "cell_type": "code",
   "execution_count": 126,
   "id": "97318e47",
   "metadata": {},
   "outputs": [],
   "source": [
    "regions_age.figure.savefig(r'/Users/pedropaulo/Desktop/Tasks CF/Instacart Basket Analysis/Analysis/Visualizations/regions_age')"
   ]
  },
  {
   "cell_type": "code",
   "execution_count": 127,
   "id": "640f782e",
   "metadata": {},
   "outputs": [],
   "source": [
    "df_dep.figure.savefig(r'/Users/pedropaulo/Desktop/Tasks CF/Instacart Basket Analysis/Analysis/Visualizations/df_dep')"
   ]
  },
  {
   "cell_type": "code",
   "execution_count": 128,
   "id": "baac932e",
   "metadata": {},
   "outputs": [],
   "source": [
    "income_bar.figure.savefig(r'/Users/pedropaulo/Desktop/Tasks CF/Instacart Basket Analysis/Analysis/Visualizations/income_bar')"
   ]
  },
  {
   "cell_type": "code",
   "execution_count": 129,
   "id": "b7186b65",
   "metadata": {},
   "outputs": [],
   "source": [
    "regions_income.figure.savefig(r'/Users/pedropaulo/Desktop/Tasks CF/Instacart Basket Analysis/Analysis/Visualizations/regions_income')"
   ]
  },
  {
   "cell_type": "code",
   "execution_count": 130,
   "id": "fa899321",
   "metadata": {},
   "outputs": [],
   "source": [
    "bar_kids.figure.savefig(r'/Users/pedropaulo/Desktop/Tasks CF/Instacart Basket Analysis/Analysis/Visualizations/bar_kids')"
   ]
  },
  {
   "cell_type": "code",
   "execution_count": 131,
   "id": "4835e76c",
   "metadata": {},
   "outputs": [],
   "source": [
    "family_flag_pie.figure.savefig(r'/Users/pedropaulo/Desktop/Tasks CF/Instacart Basket Analysis/Analysis/Visualizations/family_flag_pie')"
   ]
  },
  {
   "cell_type": "code",
   "execution_count": 132,
   "id": "783893a8",
   "metadata": {},
   "outputs": [],
   "source": [
    "department_family.figure.savefig(r'/Users/pedropaulo/Desktop/Tasks CF/Instacart Basket Analysis/Analysis/Visualizations/department_family')"
   ]
  },
  {
   "cell_type": "code",
   "execution_count": 136,
   "id": "bea8eb83",
   "metadata": {},
   "outputs": [],
   "source": [
    "bar_age_counts.figure.savefig(r'/Users/pedropaulo/Desktop/Tasks CF/Instacart Basket Analysis/Analysis/Visualizations/bar_age_counts')"
   ]
  },
  {
   "cell_type": "code",
   "execution_count": 134,
   "id": "86071cfc",
   "metadata": {},
   "outputs": [],
   "source": [
    "bar_age_counts_2.figure.savefig(r'/Users/pedropaulo/Desktop/Tasks CF/Instacart Basket Analysis/Analysis/Visualizations/bar_age_counts_2')"
   ]
  }
 ],
 "metadata": {
  "kernelspec": {
   "display_name": "Python 3 (ipykernel)",
   "language": "python",
   "name": "python3"
  },
  "language_info": {
   "codemirror_mode": {
    "name": "ipython",
    "version": 3
   },
   "file_extension": ".py",
   "mimetype": "text/x-python",
   "name": "python",
   "nbconvert_exporter": "python",
   "pygments_lexer": "ipython3",
   "version": "3.10.9"
  }
 },
 "nbformat": 4,
 "nbformat_minor": 5
}
